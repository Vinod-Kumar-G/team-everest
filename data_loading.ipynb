{
 "cells": [
  {
   "cell_type": "code",
   "execution_count": 1,
   "metadata": {},
   "outputs": [],
   "source": [
    "import os\n",
    "import requests \n",
    "from bs4 import BeautifulSoup \n",
    "  \n",
    "URL = \"https://github.com/CSSEGISandData/COVID-19/tree/master/csse_covid_19_data/csse_covid_19_daily_reports_us\"\n",
    "r = requests.get(URL) \n",
    "  \n",
    "soup = BeautifulSoup(r.content, 'html5lib') \n",
    "\n",
    "links = []\n",
    "for a in soup.find_all('div', {\"class\":\"flex-auto\", \"role\":\"rowheader\"})[1:-1]:\n",
    "    url = \"https://raw.githubusercontent.com/CSSEGISandData/COVID-19/master/csse_covid_19_data/csse_covid_19_daily_reports_us/\"\n",
    "    links.append(url + a.find('a', {\"class\":\"js-navigation-open\"}).text + '\\n')\n",
    "\n",
    "with open('daily_report_us_links.txt','w+') as file:\n",
    "    file.writelines(links)"
   ]
  },
  {
   "cell_type": "code",
   "execution_count": 18,
   "metadata": {
    "scrolled": true
   },
   "outputs": [
    {
     "name": "stdout",
     "output_type": "stream",
     "text": [
      "(59, 18)\n",
      "(118, 18)\n",
      "(177, 18)\n",
      "(236, 18)\n",
      "(295, 18)\n",
      "(354, 18)\n",
      "(413, 18)\n",
      "(472, 18)\n",
      "(531, 18)\n",
      "(590, 18)\n",
      "(649, 18)\n",
      "(708, 18)\n",
      "(767, 18)\n",
      "(826, 18)\n",
      "(885, 18)\n",
      "(944, 18)\n",
      "(1003, 18)\n",
      "(1062, 18)\n",
      "(1120, 18)\n",
      "(1178, 18)\n",
      "(1236, 18)\n",
      "(1294, 18)\n",
      "(1352, 18)\n",
      "(1410, 18)\n",
      "(1468, 18)\n",
      "(1526, 18)\n",
      "(1584, 18)\n",
      "(1642, 18)\n",
      "(1700, 18)\n",
      "(1758, 18)\n",
      "(1816, 18)\n",
      "(1874, 18)\n",
      "(1932, 18)\n",
      "(1990, 18)\n",
      "(2048, 18)\n",
      "(2106, 18)\n",
      "(2164, 18)\n",
      "(2222, 18)\n",
      "(2280, 18)\n",
      "(2338, 18)\n",
      "(2396, 18)\n",
      "(2454, 18)\n",
      "(2512, 18)\n",
      "(2570, 18)\n",
      "(2628, 18)\n",
      "(2686, 18)\n",
      "(2744, 18)\n",
      "(2802, 18)\n",
      "(2860, 18)\n",
      "(2918, 18)\n",
      "(2976, 18)\n",
      "(3034, 18)\n",
      "(3092, 18)\n",
      "(3150, 18)\n",
      "(3208, 18)\n",
      "(3266, 18)\n",
      "(3324, 18)\n",
      "(3382, 18)\n",
      "(3440, 18)\n",
      "(3498, 18)\n",
      "(3556, 18)\n",
      "(3614, 18)\n",
      "(3672, 18)\n",
      "(3730, 18)\n",
      "(3788, 18)\n",
      "(3846, 18)\n",
      "(3904, 18)\n",
      "(3962, 18)\n",
      "(4020, 18)\n",
      "(4078, 18)\n",
      "(4136, 18)\n",
      "(4194, 18)\n",
      "(4252, 18)\n",
      "(4310, 18)\n",
      "(4368, 18)\n",
      "(4426, 18)\n",
      "(4484, 18)\n",
      "(4542, 18)\n",
      "(4600, 18)\n",
      "(4658, 18)\n",
      "(4716, 18)\n",
      "(4774, 18)\n",
      "(4832, 18)\n",
      "(4890, 18)\n",
      "(4948, 18)\n",
      "(5006, 18)\n",
      "(5064, 18)\n",
      "(5122, 18)\n",
      "(5180, 18)\n",
      "(5238, 18)\n",
      "(5296, 18)\n",
      "(5354, 18)\n",
      "(5412, 18)\n",
      "(5470, 18)\n",
      "(5528, 18)\n",
      "(5586, 18)\n",
      "(5644, 18)\n",
      "(5702, 18)\n",
      "(5760, 18)\n",
      "(5818, 18)\n",
      "(5876, 18)\n",
      "(5934, 18)\n",
      "(5992, 18)\n",
      "(6050, 18)\n",
      "(6108, 18)\n"
     ]
    }
   ],
   "source": [
    "import pandas as pd\n",
    "\n",
    "df = pd.read_csv(links[0].strip())\n",
    "print(df.shape)\n",
    "\n",
    "for link in links[1:]:\n",
    "    raw_df = pd.read_csv(link.strip())\n",
    "    df = df.append(raw_df, ignore_index=True)\n",
    "    print(df.shape)"
   ]
  },
  {
   "cell_type": "code",
   "execution_count": 19,
   "metadata": {},
   "outputs": [
    {
     "data": {
      "text/html": [
       "<div>\n",
       "<style scoped>\n",
       "    .dataframe tbody tr th:only-of-type {\n",
       "        vertical-align: middle;\n",
       "    }\n",
       "\n",
       "    .dataframe tbody tr th {\n",
       "        vertical-align: top;\n",
       "    }\n",
       "\n",
       "    .dataframe thead th {\n",
       "        text-align: right;\n",
       "    }\n",
       "</style>\n",
       "<table border=\"1\" class=\"dataframe\">\n",
       "  <thead>\n",
       "    <tr style=\"text-align: right;\">\n",
       "      <th></th>\n",
       "      <th>Province_State</th>\n",
       "      <th>Country_Region</th>\n",
       "      <th>Last_Update</th>\n",
       "      <th>Lat</th>\n",
       "      <th>Long_</th>\n",
       "      <th>Confirmed</th>\n",
       "      <th>Deaths</th>\n",
       "      <th>Recovered</th>\n",
       "      <th>Active</th>\n",
       "      <th>FIPS</th>\n",
       "      <th>Incident_Rate</th>\n",
       "      <th>People_Tested</th>\n",
       "      <th>People_Hospitalized</th>\n",
       "      <th>Mortality_Rate</th>\n",
       "      <th>UID</th>\n",
       "      <th>ISO3</th>\n",
       "      <th>Testing_Rate</th>\n",
       "      <th>Hospitalization_Rate</th>\n",
       "    </tr>\n",
       "  </thead>\n",
       "  <tbody>\n",
       "    <tr>\n",
       "      <th>0</th>\n",
       "      <td>Alabama</td>\n",
       "      <td>US</td>\n",
       "      <td>2020-04-12 23:18:15</td>\n",
       "      <td>32.3182</td>\n",
       "      <td>-86.9023</td>\n",
       "      <td>3563</td>\n",
       "      <td>93</td>\n",
       "      <td>NaN</td>\n",
       "      <td>3470.0</td>\n",
       "      <td>1.0</td>\n",
       "      <td>75.988020</td>\n",
       "      <td>21583.0</td>\n",
       "      <td>437.0</td>\n",
       "      <td>2.610160</td>\n",
       "      <td>84000001.0</td>\n",
       "      <td>USA</td>\n",
       "      <td>460.300152</td>\n",
       "      <td>12.264945</td>\n",
       "    </tr>\n",
       "    <tr>\n",
       "      <th>1</th>\n",
       "      <td>Alaska</td>\n",
       "      <td>US</td>\n",
       "      <td>2020-04-12 23:18:15</td>\n",
       "      <td>61.3707</td>\n",
       "      <td>-152.4044</td>\n",
       "      <td>272</td>\n",
       "      <td>8</td>\n",
       "      <td>66.0</td>\n",
       "      <td>264.0</td>\n",
       "      <td>2.0</td>\n",
       "      <td>45.504049</td>\n",
       "      <td>8038.0</td>\n",
       "      <td>31.0</td>\n",
       "      <td>2.941176</td>\n",
       "      <td>84000002.0</td>\n",
       "      <td>USA</td>\n",
       "      <td>1344.711576</td>\n",
       "      <td>11.397059</td>\n",
       "    </tr>\n",
       "    <tr>\n",
       "      <th>2</th>\n",
       "      <td>Arizona</td>\n",
       "      <td>US</td>\n",
       "      <td>2020-04-12 23:18:15</td>\n",
       "      <td>33.7298</td>\n",
       "      <td>-111.4312</td>\n",
       "      <td>3542</td>\n",
       "      <td>115</td>\n",
       "      <td>NaN</td>\n",
       "      <td>3427.0</td>\n",
       "      <td>4.0</td>\n",
       "      <td>48.662422</td>\n",
       "      <td>42109.0</td>\n",
       "      <td>NaN</td>\n",
       "      <td>3.246753</td>\n",
       "      <td>84000004.0</td>\n",
       "      <td>USA</td>\n",
       "      <td>578.522286</td>\n",
       "      <td>NaN</td>\n",
       "    </tr>\n",
       "    <tr>\n",
       "      <th>3</th>\n",
       "      <td>Arkansas</td>\n",
       "      <td>US</td>\n",
       "      <td>2020-04-12 23:18:15</td>\n",
       "      <td>34.9697</td>\n",
       "      <td>-92.3731</td>\n",
       "      <td>1280</td>\n",
       "      <td>27</td>\n",
       "      <td>367.0</td>\n",
       "      <td>1253.0</td>\n",
       "      <td>5.0</td>\n",
       "      <td>49.439423</td>\n",
       "      <td>19722.0</td>\n",
       "      <td>130.0</td>\n",
       "      <td>2.109375</td>\n",
       "      <td>84000005.0</td>\n",
       "      <td>USA</td>\n",
       "      <td>761.753354</td>\n",
       "      <td>10.156250</td>\n",
       "    </tr>\n",
       "    <tr>\n",
       "      <th>4</th>\n",
       "      <td>California</td>\n",
       "      <td>US</td>\n",
       "      <td>2020-04-12 23:18:15</td>\n",
       "      <td>36.1162</td>\n",
       "      <td>-119.6816</td>\n",
       "      <td>22795</td>\n",
       "      <td>640</td>\n",
       "      <td>NaN</td>\n",
       "      <td>22155.0</td>\n",
       "      <td>6.0</td>\n",
       "      <td>58.137726</td>\n",
       "      <td>190328.0</td>\n",
       "      <td>5234.0</td>\n",
       "      <td>2.812020</td>\n",
       "      <td>84000006.0</td>\n",
       "      <td>USA</td>\n",
       "      <td>485.423868</td>\n",
       "      <td>22.961176</td>\n",
       "    </tr>\n",
       "  </tbody>\n",
       "</table>\n",
       "</div>"
      ],
      "text/plain": [
       "  Province_State Country_Region          Last_Update      Lat     Long_  \\\n",
       "0        Alabama             US  2020-04-12 23:18:15  32.3182  -86.9023   \n",
       "1         Alaska             US  2020-04-12 23:18:15  61.3707 -152.4044   \n",
       "2        Arizona             US  2020-04-12 23:18:15  33.7298 -111.4312   \n",
       "3       Arkansas             US  2020-04-12 23:18:15  34.9697  -92.3731   \n",
       "4     California             US  2020-04-12 23:18:15  36.1162 -119.6816   \n",
       "\n",
       "   Confirmed  Deaths  Recovered   Active  FIPS  Incident_Rate  People_Tested  \\\n",
       "0       3563      93        NaN   3470.0   1.0      75.988020        21583.0   \n",
       "1        272       8       66.0    264.0   2.0      45.504049         8038.0   \n",
       "2       3542     115        NaN   3427.0   4.0      48.662422        42109.0   \n",
       "3       1280      27      367.0   1253.0   5.0      49.439423        19722.0   \n",
       "4      22795     640        NaN  22155.0   6.0      58.137726       190328.0   \n",
       "\n",
       "   People_Hospitalized  Mortality_Rate         UID ISO3  Testing_Rate  \\\n",
       "0                437.0        2.610160  84000001.0  USA    460.300152   \n",
       "1                 31.0        2.941176  84000002.0  USA   1344.711576   \n",
       "2                  NaN        3.246753  84000004.0  USA    578.522286   \n",
       "3                130.0        2.109375  84000005.0  USA    761.753354   \n",
       "4               5234.0        2.812020  84000006.0  USA    485.423868   \n",
       "\n",
       "   Hospitalization_Rate  \n",
       "0             12.264945  \n",
       "1             11.397059  \n",
       "2                   NaN  \n",
       "3             10.156250  \n",
       "4             22.961176  "
      ]
     },
     "execution_count": 19,
     "metadata": {},
     "output_type": "execute_result"
    }
   ],
   "source": [
    "df.head()"
   ]
  },
  {
   "cell_type": "code",
   "execution_count": 23,
   "metadata": {},
   "outputs": [],
   "source": [
    "df.to_csv('csse_covid_19_daily_reports_us.csv', index=False)"
   ]
  },
  {
   "cell_type": "code",
   "execution_count": 24,
   "metadata": {},
   "outputs": [
    {
     "name": "stderr",
     "output_type": "stream",
     "text": [
      "Matplotlib is building the font cache; this may take a moment.\n"
     ]
    },
    {
     "data": {
      "application/vnd.jupyter.widget-view+json": {
       "model_id": "c0d16b6c62a3436c8b799c11272dbc78",
       "version_major": 2,
       "version_minor": 0
      },
      "text/plain": [
       "HBox(children=(FloatProgress(value=0.0, description='Summarize dataset', max=32.0, style=ProgressStyle(descrip…"
      ]
     },
     "metadata": {},
     "output_type": "display_data"
    },
    {
     "name": "stdout",
     "output_type": "stream",
     "text": [
      "\n"
     ]
    },
    {
     "data": {
      "application/vnd.jupyter.widget-view+json": {
       "model_id": "1c56c906d4114f45860086a8bcb5bf34",
       "version_major": 2,
       "version_minor": 0
      },
      "text/plain": [
       "HBox(children=(FloatProgress(value=0.0, description='Generate report structure', max=1.0, style=ProgressStyle(…"
      ]
     },
     "metadata": {},
     "output_type": "display_data"
    },
    {
     "name": "stderr",
     "output_type": "stream",
     "text": [
      "C:\\Users\\Angular\\Anaconda3\\lib\\site-packages\\pandas_profiling\\visualisation\\plot.py:154: MatplotlibDeprecationWarning: You are modifying the state of a globally registered colormap. In future versions, you will not be able to modify a registered colormap in-place. To remove this warning, you can make a copy of the colormap first. cmap = copy.copy(mpl.cm.get_cmap(\"RdBu\"))\n",
      "  cmap.set_bad(cmap_bad)\n",
      "C:\\Users\\Angular\\Anaconda3\\lib\\site-packages\\pandas_profiling\\visualisation\\plot.py:154: MatplotlibDeprecationWarning: You are modifying the state of a globally registered colormap. In future versions, you will not be able to modify a registered colormap in-place. To remove this warning, you can make a copy of the colormap first. cmap = copy.copy(mpl.cm.get_cmap(\"RdBu\"))\n",
      "  cmap.set_bad(cmap_bad)\n",
      "C:\\Users\\Angular\\Anaconda3\\lib\\site-packages\\pandas_profiling\\visualisation\\plot.py:154: MatplotlibDeprecationWarning: You are modifying the state of a globally registered colormap. In future versions, you will not be able to modify a registered colormap in-place. To remove this warning, you can make a copy of the colormap first. cmap = copy.copy(mpl.cm.get_cmap(\"RdBu\"))\n",
      "  cmap.set_bad(cmap_bad)\n"
     ]
    },
    {
     "name": "stdout",
     "output_type": "stream",
     "text": [
      "\n"
     ]
    },
    {
     "data": {
      "application/vnd.jupyter.widget-view+json": {
       "model_id": "9b86e29fde5e4b0581438eb658fbccaa",
       "version_major": 2,
       "version_minor": 0
      },
      "text/plain": [
       "HBox(children=(FloatProgress(value=0.0, description='Render HTML', max=1.0, style=ProgressStyle(description_wi…"
      ]
     },
     "metadata": {},
     "output_type": "display_data"
    },
    {
     "name": "stdout",
     "output_type": "stream",
     "text": [
      "\n"
     ]
    },
    {
     "data": {
      "application/vnd.jupyter.widget-view+json": {
       "model_id": "8aaf7b9c690644ee9bb9aab0d91cc80f",
       "version_major": 2,
       "version_minor": 0
      },
      "text/plain": [
       "HBox(children=(FloatProgress(value=0.0, description='Export report to file', max=1.0, style=ProgressStyle(desc…"
      ]
     },
     "metadata": {},
     "output_type": "display_data"
    },
    {
     "name": "stdout",
     "output_type": "stream",
     "text": [
      "\n"
     ]
    }
   ],
   "source": [
    "import pandas_profiling\n",
    "\n",
    "profile = pandas_profiling.ProfileReport(df)\n",
    "profile.to_file('csse_covid_19_daily_reports_us_profiling.html')"
   ]
  },
  {
   "cell_type": "code",
   "execution_count": 25,
   "metadata": {},
   "outputs": [
    {
     "name": "stderr",
     "output_type": "stream",
     "text": [
      "C:\\Users\\Angular\\Anaconda3\\lib\\site-packages\\IPython\\core\\interactiveshell.py:3020: DtypeWarning: Columns (41) have mixed types.Specify dtype option on import or set low_memory=False.\n",
      "  interactivity=interactivity, compiler=compiler, result=result)\n"
     ]
    },
    {
     "data": {
      "text/html": [
       "<div>\n",
       "<style scoped>\n",
       "    .dataframe tbody tr th:only-of-type {\n",
       "        vertical-align: middle;\n",
       "    }\n",
       "\n",
       "    .dataframe tbody tr th {\n",
       "        vertical-align: top;\n",
       "    }\n",
       "\n",
       "    .dataframe thead th {\n",
       "        text-align: right;\n",
       "    }\n",
       "</style>\n",
       "<table border=\"1\" class=\"dataframe\">\n",
       "  <thead>\n",
       "    <tr style=\"text-align: right;\">\n",
       "      <th></th>\n",
       "      <th>date_start</th>\n",
       "      <th>country</th>\n",
       "      <th>confirmed_cases</th>\n",
       "      <th>deaths</th>\n",
       "      <th>recovered</th>\n",
       "      <th>record_id</th>\n",
       "      <th>policy_id</th>\n",
       "      <th>recorded_date</th>\n",
       "      <th>date_updated</th>\n",
       "      <th>date_announced</th>\n",
       "      <th>...</th>\n",
       "      <th>muni_IDC</th>\n",
       "      <th>dispersive_IDC</th>\n",
       "      <th>constraining_IDC</th>\n",
       "      <th>inclusive_IDC</th>\n",
       "      <th>Rank_FP</th>\n",
       "      <th>Score_FP</th>\n",
       "      <th>sfi_SFI</th>\n",
       "      <th>ti_cpi_TI</th>\n",
       "      <th>v2x_polyarchy_VDEM</th>\n",
       "      <th>EmigrantStock_EMS</th>\n",
       "    </tr>\n",
       "  </thead>\n",
       "  <tbody>\n",
       "    <tr>\n",
       "      <th>0</th>\n",
       "      <td>1/22/2020</td>\n",
       "      <td>Afghanistan</td>\n",
       "      <td>0.0</td>\n",
       "      <td>0.0</td>\n",
       "      <td>0.0</td>\n",
       "      <td>NaN</td>\n",
       "      <td>NaN</td>\n",
       "      <td>NaN</td>\n",
       "      <td>NaN</td>\n",
       "      <td>NaN</td>\n",
       "      <td>...</td>\n",
       "      <td>1.0</td>\n",
       "      <td>NaN</td>\n",
       "      <td>0.273704</td>\n",
       "      <td>-0.20141</td>\n",
       "      <td>120.0</td>\n",
       "      <td>3946.0</td>\n",
       "      <td>21.0</td>\n",
       "      <td>15.0</td>\n",
       "      <td>0.355226</td>\n",
       "      <td>5108886.0</td>\n",
       "    </tr>\n",
       "    <tr>\n",
       "      <th>1</th>\n",
       "      <td>1/22/2020</td>\n",
       "      <td>Albania</td>\n",
       "      <td>0.0</td>\n",
       "      <td>0.0</td>\n",
       "      <td>0.0</td>\n",
       "      <td>NaN</td>\n",
       "      <td>NaN</td>\n",
       "      <td>NaN</td>\n",
       "      <td>NaN</td>\n",
       "      <td>NaN</td>\n",
       "      <td>...</td>\n",
       "      <td>2.0</td>\n",
       "      <td>NaN</td>\n",
       "      <td>0.548432</td>\n",
       "      <td>-0.20141</td>\n",
       "      <td>76.0</td>\n",
       "      <td>2992.0</td>\n",
       "      <td>2.0</td>\n",
       "      <td>39.0</td>\n",
       "      <td>0.534689</td>\n",
       "      <td>1250192.0</td>\n",
       "    </tr>\n",
       "    <tr>\n",
       "      <th>2</th>\n",
       "      <td>1/22/2020</td>\n",
       "      <td>Algeria</td>\n",
       "      <td>0.0</td>\n",
       "      <td>0.0</td>\n",
       "      <td>0.0</td>\n",
       "      <td>NaN</td>\n",
       "      <td>NaN</td>\n",
       "      <td>NaN</td>\n",
       "      <td>NaN</td>\n",
       "      <td>NaN</td>\n",
       "      <td>...</td>\n",
       "      <td>1.0</td>\n",
       "      <td>-0.43567</td>\n",
       "      <td>NaN</td>\n",
       "      <td>-0.20141</td>\n",
       "      <td>134.0</td>\n",
       "      <td>4283.0</td>\n",
       "      <td>12.0</td>\n",
       "      <td>34.0</td>\n",
       "      <td>0.379222</td>\n",
       "      <td>1716202.0</td>\n",
       "    </tr>\n",
       "    <tr>\n",
       "      <th>3</th>\n",
       "      <td>1/22/2020</td>\n",
       "      <td>Andorra</td>\n",
       "      <td>0.0</td>\n",
       "      <td>0.0</td>\n",
       "      <td>0.0</td>\n",
       "      <td>NaN</td>\n",
       "      <td>NaN</td>\n",
       "      <td>NaN</td>\n",
       "      <td>NaN</td>\n",
       "      <td>NaN</td>\n",
       "      <td>...</td>\n",
       "      <td>NaN</td>\n",
       "      <td>NaN</td>\n",
       "      <td>NaN</td>\n",
       "      <td>NaN</td>\n",
       "      <td>35.0</td>\n",
       "      <td>2103.0</td>\n",
       "      <td>NaN</td>\n",
       "      <td>NaN</td>\n",
       "      <td>NaN</td>\n",
       "      <td>7613.0</td>\n",
       "    </tr>\n",
       "    <tr>\n",
       "      <th>4</th>\n",
       "      <td>1/22/2020</td>\n",
       "      <td>Angola</td>\n",
       "      <td>0.0</td>\n",
       "      <td>0.0</td>\n",
       "      <td>0.0</td>\n",
       "      <td>NaN</td>\n",
       "      <td>NaN</td>\n",
       "      <td>NaN</td>\n",
       "      <td>NaN</td>\n",
       "      <td>NaN</td>\n",
       "      <td>...</td>\n",
       "      <td>0.0</td>\n",
       "      <td>-0.43567</td>\n",
       "      <td>0.548432</td>\n",
       "      <td>-0.20141</td>\n",
       "      <td>125.0</td>\n",
       "      <td>4042.0</td>\n",
       "      <td>16.0</td>\n",
       "      <td>18.0</td>\n",
       "      <td>0.316669</td>\n",
       "      <td>512125.0</td>\n",
       "    </tr>\n",
       "  </tbody>\n",
       "</table>\n",
       "<p>5 rows × 75 columns</p>\n",
       "</div>"
      ],
      "text/plain": [
       "  date_start      country  confirmed_cases  deaths  recovered record_id  \\\n",
       "0  1/22/2020  Afghanistan              0.0     0.0        0.0       NaN   \n",
       "1  1/22/2020      Albania              0.0     0.0        0.0       NaN   \n",
       "2  1/22/2020      Algeria              0.0     0.0        0.0       NaN   \n",
       "3  1/22/2020      Andorra              0.0     0.0        0.0       NaN   \n",
       "4  1/22/2020       Angola              0.0     0.0        0.0       NaN   \n",
       "\n",
       "   policy_id recorded_date date_updated date_announced  ... muni_IDC  \\\n",
       "0        NaN           NaN          NaN            NaN  ...      1.0   \n",
       "1        NaN           NaN          NaN            NaN  ...      2.0   \n",
       "2        NaN           NaN          NaN            NaN  ...      1.0   \n",
       "3        NaN           NaN          NaN            NaN  ...      NaN   \n",
       "4        NaN           NaN          NaN            NaN  ...      0.0   \n",
       "\n",
       "  dispersive_IDC constraining_IDC inclusive_IDC  Rank_FP Score_FP sfi_SFI  \\\n",
       "0            NaN         0.273704      -0.20141    120.0   3946.0    21.0   \n",
       "1            NaN         0.548432      -0.20141     76.0   2992.0     2.0   \n",
       "2       -0.43567              NaN      -0.20141    134.0   4283.0    12.0   \n",
       "3            NaN              NaN           NaN     35.0   2103.0     NaN   \n",
       "4       -0.43567         0.548432      -0.20141    125.0   4042.0    16.0   \n",
       "\n",
       "   ti_cpi_TI  v2x_polyarchy_VDEM  EmigrantStock_EMS  \n",
       "0       15.0            0.355226          5108886.0  \n",
       "1       39.0            0.534689          1250192.0  \n",
       "2       34.0            0.379222          1716202.0  \n",
       "3        NaN                 NaN             7613.0  \n",
       "4       18.0            0.316669           512125.0  \n",
       "\n",
       "[5 rows x 75 columns]"
      ]
     },
     "execution_count": 25,
     "metadata": {},
     "output_type": "execute_result"
    }
   ],
   "source": [
    "df1 = pd.read_csv('coronanet_release_allvars.csv')\n",
    "df1.head()"
   ]
  },
  {
   "cell_type": "code",
   "execution_count": 26,
   "metadata": {},
   "outputs": [
    {
     "data": {
      "application/vnd.jupyter.widget-view+json": {
       "model_id": "d07ed5fa878e4e3bbdfc21b7e6483236",
       "version_major": 2,
       "version_minor": 0
      },
      "text/plain": [
       "HBox(children=(FloatProgress(value=0.0, description='Summarize dataset', max=89.0, style=ProgressStyle(descrip…"
      ]
     },
     "metadata": {},
     "output_type": "display_data"
    },
    {
     "name": "stdout",
     "output_type": "stream",
     "text": [
      "\n"
     ]
    },
    {
     "data": {
      "application/vnd.jupyter.widget-view+json": {
       "model_id": "408fbafb333e44e8b9e55d2d9dce0c09",
       "version_major": 2,
       "version_minor": 0
      },
      "text/plain": [
       "HBox(children=(FloatProgress(value=0.0, description='Generate report structure', max=1.0, style=ProgressStyle(…"
      ]
     },
     "metadata": {},
     "output_type": "display_data"
    },
    {
     "name": "stderr",
     "output_type": "stream",
     "text": [
      "C:\\Users\\Angular\\Anaconda3\\lib\\site-packages\\pandas_profiling\\visualisation\\plot.py:154: MatplotlibDeprecationWarning: You are modifying the state of a globally registered colormap. In future versions, you will not be able to modify a registered colormap in-place. To remove this warning, you can make a copy of the colormap first. cmap = copy.copy(mpl.cm.get_cmap(\"RdBu\"))\n",
      "  cmap.set_bad(cmap_bad)\n",
      "C:\\Users\\Angular\\Anaconda3\\lib\\site-packages\\pandas_profiling\\visualisation\\plot.py:154: MatplotlibDeprecationWarning: You are modifying the state of a globally registered colormap. In future versions, you will not be able to modify a registered colormap in-place. To remove this warning, you can make a copy of the colormap first. cmap = copy.copy(mpl.cm.get_cmap(\"RdBu\"))\n",
      "  cmap.set_bad(cmap_bad)\n",
      "C:\\Users\\Angular\\Anaconda3\\lib\\site-packages\\pandas_profiling\\visualisation\\plot.py:154: MatplotlibDeprecationWarning: You are modifying the state of a globally registered colormap. In future versions, you will not be able to modify a registered colormap in-place. To remove this warning, you can make a copy of the colormap first. cmap = copy.copy(mpl.cm.get_cmap(\"RdBu\"))\n",
      "  cmap.set_bad(cmap_bad)\n"
     ]
    },
    {
     "name": "stdout",
     "output_type": "stream",
     "text": [
      "\n"
     ]
    },
    {
     "data": {
      "application/vnd.jupyter.widget-view+json": {
       "model_id": "03e8ddeb88904541ada6d9f95e5ac932",
       "version_major": 2,
       "version_minor": 0
      },
      "text/plain": [
       "HBox(children=(FloatProgress(value=0.0, description='Render HTML', max=1.0, style=ProgressStyle(description_wi…"
      ]
     },
     "metadata": {},
     "output_type": "display_data"
    },
    {
     "name": "stdout",
     "output_type": "stream",
     "text": [
      "\n"
     ]
    },
    {
     "data": {
      "application/vnd.jupyter.widget-view+json": {
       "model_id": "d9c14468e1aa4dc3b99dcd42a2c6ebe3",
       "version_major": 2,
       "version_minor": 0
      },
      "text/plain": [
       "HBox(children=(FloatProgress(value=0.0, description='Export report to file', max=1.0, style=ProgressStyle(desc…"
      ]
     },
     "metadata": {},
     "output_type": "display_data"
    },
    {
     "name": "stdout",
     "output_type": "stream",
     "text": [
      "\n"
     ]
    }
   ],
   "source": [
    "profile = pandas_profiling.ProfileReport(df1)\n",
    "profile.to_file('coronanet_release_allvars_profiling.html')"
   ]
  },
  {
   "cell_type": "code",
   "execution_count": null,
   "metadata": {},
   "outputs": [],
   "source": []
  }
 ],
 "metadata": {
  "kernelspec": {
   "display_name": "Python 3",
   "language": "python",
   "name": "python3"
  },
  "language_info": {
   "codemirror_mode": {
    "name": "ipython",
    "version": 3
   },
   "file_extension": ".py",
   "mimetype": "text/x-python",
   "name": "python",
   "nbconvert_exporter": "python",
   "pygments_lexer": "ipython3",
   "version": "3.7.1"
  }
 },
 "nbformat": 4,
 "nbformat_minor": 2
}
